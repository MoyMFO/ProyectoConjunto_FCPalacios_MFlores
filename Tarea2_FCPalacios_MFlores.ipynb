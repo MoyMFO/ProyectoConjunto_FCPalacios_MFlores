{
 "cells": [
  {
   "cell_type": "markdown",
   "metadata": {},
   "source": [
    "<img style=\"float: left; margin: 30px 15px 15px 15px;\" src=\"https://pngimage.net/wp-content/uploads/2018/06/logo-iteso-png-5.png\" width=\"300\" height=\"500\" /> \n",
    "    \n",
    "    \n",
    "### <font color='navy'> Simulación de procesos financieros. \n",
    "\n",
    "**Nombres:** Flavio Cesar Palacios Salas y Moisés Flores Ortiz\n",
    "              \n",
    "\n",
    "**Fecha:** 10 de febrero del 2021.\n",
    "\n",
    "**Expediente** : Moisés Flores Ortiz: 722183. Flavio Cesar Palacios Salas: 729825.\n",
    "**Profesor:** Oscar David Jaramillo Zuluaga.\n",
    "\n",
    "# Tarea 2: Clase 7"
   ]
  },
  {
   "attachments": {
    "imagen.png": {
     "image/png": "[encoded data removed]"
    }
   },
   "cell_type": "markdown",
   "metadata": {},
   "source": [
    "1. Imagine una rutina contable utilizada en una librería. Funciona en una lista con sublistas, que se ven así:\n",
    "![imagen.png](attachment:imagen.png)\n",
    "Escriba un programa en Python, que devuelve una lista con tuplas de tamaño 2. Cada tupla consiste en el número de pedido y el costo total del pedido. El producto debe aumentarse en 10€ si el valor de la orden es inferior a 100,00 €. \n",
    "Escribe un programa Python usando unicamente las funciones **lambda y map**.\n",
    "\n",
    "`orders = [ [\"34587\", \"Learning Python, Mark Lutz\", 4, 40.95], \n",
    "           [\"98762\", \"Programming Python, Mark Lutz\", 5, 56.80], \n",
    "           [\"77226\", \"Head First Python, Paul Barry\", 3,32.95],\n",
    "           [\"88112\", \"Einführung in Python3, Bernd Klein\", 3, 24.99]]`\n"
   ]
  },
  {
   "cell_type": "code",
   "execution_count": 17,
   "metadata": {},
   "outputs": [],
   "source": [
    "########### Solución 1\n",
    "orders1 = [ [\"34587\", \"Learning Python, Mark Lutz\", 4, 40.95], \n",
    "           [\"98762\", \"Programming Python, Mark Lutz\", 5, 56.80], \n",
    "           [\"77226\", \"Head First Python, Paul Barry\", 3,32.95],\n",
    "           [\"88112\", \"Einführung in Python3, Bernd Klein\", 3, 24.99]]\n",
    "\n",
    "# El resultado debe ser como muestro en el resultado de esta celda"
   ]
  },
  {
   "cell_type": "markdown",
   "metadata": {},
   "source": [
    "### Solución 1: Flavio Palacios"
   ]
  },
  {
   "cell_type": "code",
   "execution_count": 18,
   "metadata": {},
   "outputs": [
    {
     "data": {
      "text/plain": [
       "[['34587', 163.8],\n",
       " ['98762', 284.0],\n",
       " ['77226', 108.85000000000001],\n",
       " ['88112', 84.97]]"
      ]
     },
     "execution_count": 18,
     "metadata": {},
     "output_type": "execute_result"
    }
   ],
   "source": [
    "mult = lambda a: a[3]*a[2] if a[3]*a[2] > 100 else a[3]*a[2] + 10\n",
    "b = list(map(mult, orders1))\n",
    "c = list(map(lambda a: a[0], orders1))\n",
    "d = list(map(lambda a,b: [a,b], c,b))\n",
    "d"
   ]
  },
  {
   "cell_type": "markdown",
   "metadata": {},
   "source": [
    "### Solución 1: Moisés Flores"
   ]
  },
  {
   "cell_type": "code",
   "execution_count": 12,
   "metadata": {},
   "outputs": [
    {
     "data": {
      "text/plain": [
       "[['34587', 163.8],\n",
       " ['98762', 284.0],\n",
       " ['77226', 108.85000000000001],\n",
       " ['88112', 84.97]]"
      ]
     },
     "execution_count": 12,
     "metadata": {},
     "output_type": "execute_result"
    }
   ],
   "source": [
    "orders1 = [ [\"34587\", \"Learning Python, Mark Lutz\", 4, 40.95], \n",
    "           [\"98762\", \"Programming Python, Mark Lutz\", 5, 56.80], \n",
    "           [\"77226\", \"Head First Python, Paul Barry\", 3,32.95],\n",
    "           [\"88112\", \"Einführung in Python3, Bernd Klein\", 3, 24.99]]\n",
    "condicion = lambda x: [x[0]]+[x[-1] + 10] if  x[-1] < 100 else [x[0]]+[x[-1]]\n",
    "merge = lambda x: [x[0]]+[x[-2]*x[-1]]\n",
    "lista_resp = list(map(condicion,list(map(merge,orders1))))\n",
    "lista_resp"
   ]
  },
  {
   "cell_type": "markdown",
   "metadata": {},
   "source": [
    "### Respuesta \n",
    " La respuesta es:\n",
    " \n",
    " <font color=\"red\">$[['34587', 163.8],\n",
    " ['98762', 284.0],\n",
    " ['77226', 108.85000000000001],\n",
    " ['88112', 84.97]]$</font>"
   ]
  },
  {
   "cell_type": "markdown",
   "metadata": {},
   "source": [
    "2. La misma librería, pero esta vez trabajamos en una lista diferente. Las sublistas de nuestras listas se ven así: \n",
    "[número de orden, (número de artículo, cantidad, precio por unidad), ... (número de artículo, cantidad, precio por unidad)] \n",
    "\n",
    "`orders = [[1, (\"5464\", 4, 9.99), (\"8274\",18,12.99), (\"9744\", 9, 44.95)], \n",
    "\t       [2, (\"5464\", 9, 9.99), (\"9744\", 9, 44.95)],\n",
    "\t       [3, (\"5464\", 9, 9.99), (\"88112\", 11, 24.99)],\n",
    "           [4, (\"8732\", 7, 11.99), (\"7733\",11,18.99), (\"88112\", 5, 39.95)] ]`\n",
    "\n",
    "Escriba un programa que devuelva una lista de dos tuplas que tengan la información de (número de pedido, cantidad total de pedido). Utilice la función `Reduce`. Recuerde el precio del pedido del producto debe aumentarse en 10€ si el valor de la orden es inferior a 100,00 €."
   ]
  },
  {
   "cell_type": "code",
   "execution_count": 8,
   "metadata": {
    "scrolled": true
   },
   "outputs": [],
   "source": [
    "########### Solución 2\n",
    "orders2 = [[1, (\"5464\", 4, 9.99), (\"8274\",18,12.99), (\"9744\", 9, 44.95)], \n",
    "          [2, (\"5464\", 9, 9.99), (\"9744\", 9, 44.95)],\n",
    "          [3, (\"5464\", 9, 9.99), (\"88112\", 11, 24.99)],\n",
    "          [4, (\"8732\", 7, 11.99), (\"7733\",11,18.99), (\"88112\", 5, 39.95)] ]\n",
    "\n"
   ]
  },
  {
   "cell_type": "code",
   "execution_count": 54,
   "metadata": {},
   "outputs": [
    {
     "data": {
      "text/plain": [
       "[[1, 4725810.37476],\n",
       " [2, 40418.5905],\n",
       " [3, 27464.259899999997],\n",
       " [4, 3919302.280575]]"
      ]
     },
     "execution_count": 54,
     "metadata": {},
     "output_type": "execute_result"
    }
   ],
   "source": [
    "# Esta debe de ser su solución"
   ]
  },
  {
   "cell_type": "markdown",
   "metadata": {},
   "source": [
    "### Solución 2: Flavio Palacios"
   ]
  },
  {
   "cell_type": "code",
   "execution_count": 10,
   "metadata": {},
   "outputs": [
    {
     "data": {
      "text/plain": [
       "[[1, 688.3299999999999],\n",
       " [2, 504.46000000000004],\n",
       " [3, 374.79999999999995],\n",
       " [4, 502.57]]"
      ]
     },
     "execution_count": 10,
     "metadata": {},
     "output_type": "execute_result"
    }
   ],
   "source": [
    "from functools import reduce\n",
    "summa = list(map(lambda x: reduce(lambda a,b: a+b,\n",
    "                                  list(map(lambda y: y[1]*y[2] if y[1]*y[2] >= 100 else y[1]*y[2] +10, x[1:]))),orders2))\n",
    "index = list(map(lambda l: l[0], orders2))\n",
    "total_orders2 = list(map(lambda a,b: [a,b], index, summa))\n",
    "total_orders2"
   ]
  },
  {
   "cell_type": "markdown",
   "metadata": {},
   "source": [
    "### Solución 2: Moisés Flores"
   ]
  },
  {
   "cell_type": "code",
   "execution_count": 9,
   "metadata": {},
   "outputs": [
    {
     "data": {
      "text/plain": [
       "[(1, 688.3299999999999),\n",
       " (2, 504.46000000000004),\n",
       " (3, 374.79999999999995),\n",
       " (4, 502.57)]"
      ]
     },
     "execution_count": 9,
     "metadata": {},
     "output_type": "execute_result"
    }
   ],
   "source": [
    "########### Solución 2\n",
    "from functools import reduce\n",
    "orders2 = [[1, (\"5464\", 4, 9.99), (\"8274\",18,12.99), (\"9744\", 9, 44.95)], \n",
    "          [2, (\"5464\", 9, 9.99), (\"9744\", 9, 44.95)],\n",
    "          [3, (\"5464\", 9, 9.99), (\"88112\", 11, 24.99)],\n",
    "          [4, (\"8732\", 7, 11.99), (\"7733\",11,18.99), (\"88112\", 5, 39.95)] ]\n",
    "\n",
    "suma_pivot = lambda x,y: x+y\n",
    "lista_resp = list(map(lambda i:(i[0],reduce(suma_pivot,\n",
    "                                            list(map(lambda x: x[1]*x[2]+10 if x[1]*x[2]<=100 else x[1]*x[2],i[1:])))),orders))\n",
    "lista_resp"
   ]
  },
  {
   "cell_type": "markdown",
   "metadata": {},
   "source": [
    "### Respuesta \n",
    " La respuesta es:\n",
    " \n",
    " <font color=\"red\">$[(1, 688.3299999999999),\n",
    " (2, 504.46000000000004),\n",
    " (3, 374.79999999999995),\n",
    " (4, 502.57)]$</font>"
   ]
  },
  {
   "cell_type": "markdown",
   "metadata": {},
   "source": [
    "3. Resolver los anteriores ejercicios usando pandas (DataFrame)"
   ]
  },
  {
   "cell_type": "markdown",
   "metadata": {},
   "source": [
    "### Solución 3: Flavio Palacios"
   ]
  },
  {
   "cell_type": "code",
   "execution_count": 16,
   "metadata": {},
   "outputs": [
    {
     "data": {
      "text/html": [
       "<div>\n",
       "<style scoped>\n",
       "    .dataframe tbody tr th:only-of-type {\n",
       "        vertical-align: middle;\n",
       "    }\n",
       "\n",
       "    .dataframe tbody tr th {\n",
       "        vertical-align: top;\n",
       "    }\n",
       "\n",
       "    .dataframe thead th {\n",
       "        text-align: right;\n",
       "    }\n",
       "</style>\n",
       "<table border=\"1\" class=\"dataframe\">\n",
       "  <thead>\n",
       "    <tr style=\"text-align: right;\">\n",
       "      <th></th>\n",
       "      <th>Total price</th>\n",
       "    </tr>\n",
       "    <tr>\n",
       "      <th>Order Number</th>\n",
       "      <th></th>\n",
       "    </tr>\n",
       "  </thead>\n",
       "  <tbody>\n",
       "    <tr>\n",
       "      <th>34587</th>\n",
       "      <td>163.80</td>\n",
       "    </tr>\n",
       "    <tr>\n",
       "      <th>98762</th>\n",
       "      <td>284.00</td>\n",
       "    </tr>\n",
       "    <tr>\n",
       "      <th>77226</th>\n",
       "      <td>108.85</td>\n",
       "    </tr>\n",
       "    <tr>\n",
       "      <th>88112</th>\n",
       "      <td>84.97</td>\n",
       "    </tr>\n",
       "  </tbody>\n",
       "</table>\n",
       "</div>"
      ],
      "text/plain": [
       "              Total price\n",
       "Order Number             \n",
       "34587              163.80\n",
       "98762              284.00\n",
       "77226              108.85\n",
       "88112               84.97"
      ]
     },
     "execution_count": 16,
     "metadata": {},
     "output_type": "execute_result"
    }
   ],
   "source": [
    "import pandas as pd\n",
    "titles = [\"Order Number\", \"Book Title and Author\", \"Quantity\", \"Price per Item\"]\n",
    "Sol3_1 = pd.DataFrame(data = orders1, columns = titles)\n",
    "Sol3_1[\"Total price\"] = Sol3_1[\"Quantity\"]*Sol3_1[\"Price per Item\"]\n",
    "tax = mult = lambda c: c[\"Total price\"] if c[\"Total price\"] > 100 else c[\"Total price\"] + 10\n",
    "Sol3_1[\"Total price\"] = Sol3_1.apply(tax, axis = 1)\n",
    "Sol3_1.drop([\"Book Title and Author\",\"Quantity\",\"Price per Item\"],axis=1,inplace=True)\n",
    "Sol3_1.set_index(\"Order Number\", inplace = True)\n",
    "Sol3_1"
   ]
  },
  {
   "cell_type": "code",
   "execution_count": 21,
   "metadata": {},
   "outputs": [
    {
     "data": {
      "text/html": [
       "<div>\n",
       "<style scoped>\n",
       "    .dataframe tbody tr th:only-of-type {\n",
       "        vertical-align: middle;\n",
       "    }\n",
       "\n",
       "    .dataframe tbody tr th {\n",
       "        vertical-align: top;\n",
       "    }\n",
       "\n",
       "    .dataframe thead th {\n",
       "        text-align: right;\n",
       "    }\n",
       "</style>\n",
       "<table border=\"1\" class=\"dataframe\">\n",
       "  <thead>\n",
       "    <tr style=\"text-align: right;\">\n",
       "      <th></th>\n",
       "      <th>order 1</th>\n",
       "      <th>order 2</th>\n",
       "      <th>order 3</th>\n",
       "      <th>Total order</th>\n",
       "    </tr>\n",
       "    <tr>\n",
       "      <th>Number order</th>\n",
       "      <th></th>\n",
       "      <th></th>\n",
       "      <th></th>\n",
       "      <th></th>\n",
       "    </tr>\n",
       "  </thead>\n",
       "  <tbody>\n",
       "    <tr>\n",
       "      <th>1</th>\n",
       "      <td>49.96</td>\n",
       "      <td>233.82</td>\n",
       "      <td>404.55</td>\n",
       "      <td>688.33</td>\n",
       "    </tr>\n",
       "    <tr>\n",
       "      <th>2</th>\n",
       "      <td>99.91</td>\n",
       "      <td>404.55</td>\n",
       "      <td>0.00</td>\n",
       "      <td>504.46</td>\n",
       "    </tr>\n",
       "    <tr>\n",
       "      <th>3</th>\n",
       "      <td>99.91</td>\n",
       "      <td>274.89</td>\n",
       "      <td>0.00</td>\n",
       "      <td>374.80</td>\n",
       "    </tr>\n",
       "    <tr>\n",
       "      <th>4</th>\n",
       "      <td>93.93</td>\n",
       "      <td>208.89</td>\n",
       "      <td>199.75</td>\n",
       "      <td>502.57</td>\n",
       "    </tr>\n",
       "  </tbody>\n",
       "</table>\n",
       "</div>"
      ],
      "text/plain": [
       "              order 1  order 2  order 3  Total order\n",
       "Number order                                        \n",
       "1               49.96   233.82   404.55       688.33\n",
       "2               99.91   404.55     0.00       504.46\n",
       "3               99.91   274.89     0.00       374.80\n",
       "4               93.93   208.89   199.75       502.57"
      ]
     },
     "execution_count": 21,
     "metadata": {},
     "output_type": "execute_result"
    }
   ],
   "source": [
    "Sol3_2 = pd.DataFrame(orders2, columns = [\"Number order\", \"order 1\", \"order 2\", \"order 3\"]).set_index(\"Number order\")\n",
    "tax = lambda a: 0 if a==None else a[1]*a[2] if a[1]*a[2] >= 100 else a[1]*a[2] + 10\n",
    "Sol3_2[[\"order 1\", \"order 2\", \"order 3\"]] = Sol3_2[[\"order 1\", \"order 2\", \"order 3\"]].applymap(tax)\n",
    "Sol3_2[\"Total order\"] = Sol3_2.sum(axis=1)\n",
    "Sol3_2"
   ]
  },
  {
   "cell_type": "markdown",
   "metadata": {},
   "source": [
    "### Solución 3: Moisés Flores"
   ]
  },
  {
   "cell_type": "code",
   "execution_count": 10,
   "metadata": {},
   "outputs": [
    {
     "data": {
      "text/html": [
       "<div>\n",
       "<style scoped>\n",
       "    .dataframe tbody tr th:only-of-type {\n",
       "        vertical-align: middle;\n",
       "    }\n",
       "\n",
       "    .dataframe tbody tr th {\n",
       "        vertical-align: top;\n",
       "    }\n",
       "\n",
       "    .dataframe thead th {\n",
       "        text-align: right;\n",
       "    }\n",
       "</style>\n",
       "<table border=\"1\" class=\"dataframe\">\n",
       "  <thead>\n",
       "    <tr style=\"text-align: right;\">\n",
       "      <th></th>\n",
       "      <th>Total Orden</th>\n",
       "    </tr>\n",
       "    <tr>\n",
       "      <th>Orden</th>\n",
       "      <th></th>\n",
       "    </tr>\n",
       "  </thead>\n",
       "  <tbody>\n",
       "    <tr>\n",
       "      <th>34587</th>\n",
       "      <td>163.80</td>\n",
       "    </tr>\n",
       "    <tr>\n",
       "      <th>98762</th>\n",
       "      <td>284.00</td>\n",
       "    </tr>\n",
       "    <tr>\n",
       "      <th>77226</th>\n",
       "      <td>108.85</td>\n",
       "    </tr>\n",
       "    <tr>\n",
       "      <th>88112</th>\n",
       "      <td>84.97</td>\n",
       "    </tr>\n",
       "  </tbody>\n",
       "</table>\n",
       "</div>"
      ],
      "text/plain": [
       "       Total Orden\n",
       "Orden             \n",
       "34587       163.80\n",
       "98762       284.00\n",
       "77226       108.85\n",
       "88112        84.97"
      ]
     },
     "execution_count": 10,
     "metadata": {},
     "output_type": "execute_result"
    }
   ],
   "source": [
    "######Solución con pandas al Problema 1\n",
    "import pandas as pd\n",
    "func = lambda x: x+10 if x<100 else x\n",
    "df = pd.DataFrame(orders1,columns=[\"Orden\",\"Libro\",\"Cantidad\",\"Precio\"]).set_index(\"Orden\")\n",
    "df[\"Total Orden\"] = df[\"Cantidad\"] *df[\"Precio\"]\n",
    "df[\"Total Orden\"] = df[\"Total Orden\"].apply(func) \n",
    "df.drop([\"Libro\",\"Cantidad\",\"Precio\"],axis=1,inplace=True)\n",
    "df"
   ]
  },
  {
   "cell_type": "markdown",
   "metadata": {},
   "source": [
    "### Respuesta \n",
    " La respuesta es:\n",
    " \n",
    "| Orden | Total Orden |\n",
    "|-------|-------------|\n",
    "| 34587 |      163.80 |\n",
    "| 98762 |      284.00 |\n",
    "| 77226 |      108.85 |\n",
    "| 88112 |       84.97 |\n",
    "\n"
   ]
  },
  {
   "cell_type": "code",
   "execution_count": 11,
   "metadata": {},
   "outputs": [
    {
     "data": {
      "text/html": [
       "<div>\n",
       "<style scoped>\n",
       "    .dataframe tbody tr th:only-of-type {\n",
       "        vertical-align: middle;\n",
       "    }\n",
       "\n",
       "    .dataframe tbody tr th {\n",
       "        vertical-align: top;\n",
       "    }\n",
       "\n",
       "    .dataframe thead th {\n",
       "        text-align: right;\n",
       "    }\n",
       "</style>\n",
       "<table border=\"1\" class=\"dataframe\">\n",
       "  <thead>\n",
       "    <tr style=\"text-align: right;\">\n",
       "      <th></th>\n",
       "      <th>Total Pedido</th>\n",
       "    </tr>\n",
       "    <tr>\n",
       "      <th>Pedido</th>\n",
       "      <th></th>\n",
       "    </tr>\n",
       "  </thead>\n",
       "  <tbody>\n",
       "    <tr>\n",
       "      <th>1</th>\n",
       "      <td>688.33</td>\n",
       "    </tr>\n",
       "    <tr>\n",
       "      <th>2</th>\n",
       "      <td>504.46</td>\n",
       "    </tr>\n",
       "    <tr>\n",
       "      <th>3</th>\n",
       "      <td>374.80</td>\n",
       "    </tr>\n",
       "    <tr>\n",
       "      <th>4</th>\n",
       "      <td>502.57</td>\n",
       "    </tr>\n",
       "  </tbody>\n",
       "</table>\n",
       "</div>"
      ],
      "text/plain": [
       "        Total Pedido\n",
       "Pedido              \n",
       "1             688.33\n",
       "2             504.46\n",
       "3             374.80\n",
       "4             502.57"
      ]
     },
     "execution_count": 11,
     "metadata": {},
     "output_type": "execute_result"
    }
   ],
   "source": [
    "#####Solución con pandas al Problema 2\n",
    "df = pd.DataFrame(orders,columns=[\"Pedido\",\"O1\",\"O2\",\"O3\"]).set_index(\"Pedido\")\n",
    "condicion = lambda x: 0 if x==None else x[1]*x[2]+10 if x[1]*x[2]<=100 else x[1]*x[2]\n",
    "df[[\"O1\",\"O2\",\"O3\"]]=df[[\"O1\",\"O2\",\"O3\"]].applymap(condicion)\n",
    "df[\"Total Pedido\"]=df.sum(axis=1)\n",
    "df.drop(columns=[\"O1\",\"O2\",\"O3\"],inplace=True)\n",
    "df"
   ]
  },
  {
   "cell_type": "markdown",
   "metadata": {},
   "source": [
    "### Respuesta \n",
    " La respuesta es:\n",
    "\n",
    "| Pedido | Total Pedido |\n",
    "|--------|--------------|\n",
    "|      1 |       688.33 |\n",
    "|      2 |       504.46 |\n",
    "|      3 |       374.80 |\n",
    "|      4 |       502.57 |\n",
    "\n"
   ]
  },
  {
   "cell_type": "markdown",
   "metadata": {},
   "source": [
    "4. Use filter to eliminate all words that are shorter than 4 letters from a list of words\n",
    "`list='the notion of a lambda function goes all the way back to the origin of computer science'`"
   ]
  },
  {
   "cell_type": "code",
   "execution_count": 64,
   "metadata": {
    "scrolled": true
   },
   "outputs": [
    {
     "data": {
      "text/plain": [
       "['notion',\n",
       " 'lambda',\n",
       " 'function',\n",
       " 'goes',\n",
       " 'back',\n",
       " 'origin',\n",
       " 'computer',\n",
       " 'science']"
      ]
     },
     "execution_count": 64,
     "metadata": {},
     "output_type": "execute_result"
    }
   ],
   "source": [
    "# Respuesta"
   ]
  },
  {
   "cell_type": "markdown",
   "metadata": {},
   "source": [
    "### Solución 4: Flavio Palacios"
   ]
  },
  {
   "cell_type": "code",
   "execution_count": 6,
   "metadata": {},
   "outputs": [
    {
     "data": {
      "text/plain": [
       "['notion',\n",
       " 'lambda',\n",
       " 'function',\n",
       " 'goes',\n",
       " 'back',\n",
       " 'origin',\n",
       " 'computer',\n",
       " 'science']"
      ]
     },
     "execution_count": 6,
     "metadata": {},
     "output_type": "execute_result"
    }
   ],
   "source": [
    "l = 'the notion of a lambda function goes all the way back to the origin of computer science'\n",
    "f = lambda x: x.split()\n",
    "l = f(l)\n",
    "list(filter(lambda st: st if len(st) >= 4 else \"\",l))"
   ]
  },
  {
   "cell_type": "markdown",
   "metadata": {},
   "source": [
    "### Solución 4: Moisés Flores"
   ]
  },
  {
   "cell_type": "code",
   "execution_count": 12,
   "metadata": {},
   "outputs": [
    {
     "data": {
      "text/plain": [
       "['notion',\n",
       " 'lambda',\n",
       " 'function',\n",
       " 'goes',\n",
       " 'back',\n",
       " 'origin',\n",
       " 'computer',\n",
       " 'science']"
      ]
     },
     "execution_count": 12,
     "metadata": {},
     "output_type": "execute_result"
    }
   ],
   "source": [
    "lista='the notion of a lambda function goes all the way back to the origin of computer science'\n",
    "lista_resp = list(filter(lambda x: len(x)>=4,lista.split(\" \")))\n",
    "lista_resp"
   ]
  },
  {
   "cell_type": "markdown",
   "metadata": {},
   "source": [
    "### Respuesta \n",
    " La respuesta es <font color=\"red\">$['notion',\n",
    " 'lambda',\n",
    " 'function',\n",
    " 'goes',\n",
    " 'back',\n",
    " 'origin',\n",
    " 'computer',\n",
    " 'science']$</font>"
   ]
  },
  {
   "cell_type": "markdown",
   "metadata": {},
   "source": [
    "5. Use filter to determine the percentage of Fahrenheit temperatures in a list are within the range 32 to 80"
   ]
  },
  {
   "cell_type": "code",
   "execution_count": 22,
   "metadata": {},
   "outputs": [
    {
     "name": "stdout",
     "output_type": "stream",
     "text": [
      "[ 35.97387961  99.13294268  92.6178302   99.69549478  63.21119535\n",
      "  73.90387697  95.50028838  99.21476553  36.98251238 101.45813729\n",
      " 100.5917418   89.38159435  89.52156589  83.8084752   28.37990868\n",
      "  68.75395211  45.86132067  36.58307493  56.32208365  33.96219302\n",
      "  45.29071318  74.86289938  66.51091383  88.19316186  94.26635864\n",
      "  46.83131624 109.60744472 109.68427993  44.55796499  92.84146259]\n"
     ]
    }
   ],
   "source": [
    "########### Solución 5\n",
    "import numpy as np\n",
    "np.random.seed(55555)\n",
    "temperatures = np.random.uniform(25,110,30)\n",
    "print(temperatures)"
   ]
  },
  {
   "cell_type": "code",
   "execution_count": 68,
   "metadata": {},
   "outputs": [
    {
     "data": {
      "text/plain": [
       "[35.97387961379455,\n",
       " 63.211195349983264,\n",
       " 73.90387696517755,\n",
       " 36.982512376595906,\n",
       " 68.75395211338406,\n",
       " 45.86132066984196,\n",
       " 36.58307493022292,\n",
       " 56.322083650154724,\n",
       " 33.9621930206693,\n",
       " 45.29071317816652,\n",
       " 74.86289938282341,\n",
       " 66.51091382521807,\n",
       " 46.831316244170544,\n",
       " 44.55796498523391]"
      ]
     },
     "execution_count": 68,
     "metadata": {},
     "output_type": "execute_result"
    }
   ],
   "source": [
    "# Respuesta"
   ]
  },
  {
   "cell_type": "markdown",
   "metadata": {},
   "source": [
    "### Solución 5: Flavio Palacios"
   ]
  },
  {
   "cell_type": "code",
   "execution_count": 25,
   "metadata": {},
   "outputs": [
    {
     "data": {
      "text/plain": [
       "[35.97387961379455,\n",
       " 63.211195349983264,\n",
       " 73.90387696517755,\n",
       " 36.982512376595906,\n",
       " 68.75395211338406,\n",
       " 45.86132066984196,\n",
       " 36.58307493022292,\n",
       " 56.322083650154724,\n",
       " 33.9621930206693,\n",
       " 45.29071317816652,\n",
       " 74.86289938282341,\n",
       " 66.51091382521807,\n",
       " 46.831316244170544,\n",
       " 44.55796498523391]"
      ]
     },
     "execution_count": 25,
     "metadata": {},
     "output_type": "execute_result"
    }
   ],
   "source": [
    "temp_aco = list(filter(lambda x: x if x >= 32 and x <= 80 else \"\", temperatures))\n",
    "temp_aco "
   ]
  },
  {
   "cell_type": "code",
   "execution_count": 26,
   "metadata": {},
   "outputs": [
    {
     "data": {
      "text/plain": [
       "0.4666666666666667"
      ]
     },
     "execution_count": 26,
     "metadata": {},
     "output_type": "execute_result"
    }
   ],
   "source": [
    "per = len(temp_aco)/len(temperatures)\n",
    "per"
   ]
  },
  {
   "cell_type": "markdown",
   "metadata": {},
   "source": [
    "### Solución 5: Moisés Flores"
   ]
  },
  {
   "cell_type": "code",
   "execution_count": 15,
   "metadata": {},
   "outputs": [
    {
     "data": {
      "text/plain": [
       "[35.97387961379455,\n",
       " 63.211195349983264,\n",
       " 73.90387696517755,\n",
       " 36.982512376595906,\n",
       " 68.75395211338406,\n",
       " 45.86132066984196,\n",
       " 36.58307493022292,\n",
       " 56.322083650154724,\n",
       " 33.9621930206693,\n",
       " 45.29071317816652,\n",
       " 74.86289938282341,\n",
       " 66.51091382521807,\n",
       " 46.831316244170544,\n",
       " 44.55796498523391]"
      ]
     },
     "execution_count": 15,
     "metadata": {},
     "output_type": "execute_result"
    }
   ],
   "source": [
    "lista_resp = list(filter(lambda x: x >= 32 and x<=80,temperatures))\n",
    "lista_resp"
   ]
  },
  {
   "cell_type": "code",
   "execution_count": 16,
   "metadata": {},
   "outputs": [
    {
     "data": {
      "text/plain": [
       "0.4666666666666667"
      ]
     },
     "execution_count": 16,
     "metadata": {},
     "output_type": "execute_result"
    }
   ],
   "source": [
    "porcentaje = len(lista_resp)/len(temperatures)\n",
    "porcentaje"
   ]
  },
  {
   "cell_type": "markdown",
   "metadata": {},
   "source": [
    "### Respuesta \n",
    " La respuesta es <font color=\"red\">$46.66 \\%$</font>"
   ]
  },
  {
   "cell_type": "markdown",
   "metadata": {},
   "source": [
    "6. Use reduce to find the lower left corner (minimum x and minimum y value) for a list of point locations\n",
    "> **Hint**: Explore the command `np.minimum.reduce` [link](https://docs.scipy.org/doc/numpy/reference/generated/numpy.ufunc.reduce.html)"
   ]
  },
  {
   "cell_type": "code",
   "execution_count": 27,
   "metadata": {},
   "outputs": [
    {
     "name": "stdout",
     "output_type": "stream",
     "text": [
      "[[17 97]\n",
      " [22 33]\n",
      " [37 46]\n",
      " [57 28]\n",
      " [11 25]\n",
      " [14  2]\n",
      " [74 16]\n",
      " [12 37]\n",
      " [35 21]\n",
      " [66 65]\n",
      " [86 58]\n",
      " [67 81]\n",
      " [ 0 48]\n",
      " [28 66]\n",
      " [76 22]\n",
      " [46 47]\n",
      " [64  7]\n",
      " [88 94]\n",
      " [65 13]\n",
      " [75 89]\n",
      " [23 17]\n",
      " [36 63]\n",
      " [62 36]\n",
      " [64 17]\n",
      " [18 19]\n",
      " [88 41]\n",
      " [21 49]\n",
      " [98 36]\n",
      " [81 73]\n",
      " [62 90]]\n"
     ]
    }
   ],
   "source": [
    "########### Solución 5\n",
    "np.random.seed(55555)\n",
    "point_xy = np.random.randint(0,100,[30,2])\n",
    "print(point_xy)"
   ]
  },
  {
   "cell_type": "code",
   "execution_count": 134,
   "metadata": {
    "scrolled": true
   },
   "outputs": [
    {
     "data": {
      "text/plain": [
       "array([0, 2])"
      ]
     },
     "execution_count": 134,
     "metadata": {},
     "output_type": "execute_result"
    }
   ],
   "source": [
    "# Respuesta"
   ]
  },
  {
   "cell_type": "markdown",
   "metadata": {},
   "source": [
    "### Solución 6: Flavio Palacios"
   ]
  },
  {
   "cell_type": "code",
   "execution_count": 28,
   "metadata": {},
   "outputs": [
    {
     "data": {
      "text/plain": [
       "array([0, 2])"
      ]
     },
     "execution_count": 28,
     "metadata": {},
     "output_type": "execute_result"
    }
   ],
   "source": [
    "# Respuesta sin considerar la función de numpy\n",
    "#from functools import reduce\n",
    "#f1 = lambda a,b: a[0] if a[0]< b[0] else b[0]\n",
    "#f2 = lambda a,b: a[1] if a[1]< b[1] else b[1]\n",
    "#reduce(lambda a,b: [f1(a,b),f2(a,b)],point_xy)\n",
    "answ = np.minimum.reduce(point_xy)\n",
    "answ"
   ]
  },
  {
   "cell_type": "markdown",
   "metadata": {},
   "source": [
    "### Solución 6: Moisés Flores"
   ]
  },
  {
   "cell_type": "code",
   "execution_count": 18,
   "metadata": {},
   "outputs": [
    {
     "data": {
      "text/plain": [
       "array([0, 2])"
      ]
     },
     "execution_count": 18,
     "metadata": {},
     "output_type": "execute_result"
    }
   ],
   "source": [
    "array_resp = np.minimum.reduce(point_xy)\n",
    "array_resp"
   ]
  },
  {
   "cell_type": "markdown",
   "metadata": {},
   "source": [
    "### Respuesta \n",
    " La respuesta es <font color=\"red\">$[0,2]$</font>"
   ]
  },
  {
   "cell_type": "markdown",
   "metadata": {},
   "source": [
    "7. Ejercicios de Gráficación: Vectorización"
   ]
  },
  {
   "cell_type": "markdown",
   "metadata": {},
   "source": [
    "### Solución 7: Flavio Palacios"
   ]
  },
  {
   "cell_type": "code",
   "execution_count": 2,
   "metadata": {},
   "outputs": [],
   "source": [
    "# Paquetes a utilizar\n",
    "import numpy as np\n",
    "import scipy.special as sps \n",
    "import matplotlib.pyplot as plt"
   ]
  },
  {
   "cell_type": "code",
   "execution_count": 3,
   "metadata": {},
   "outputs": [
    {
     "data": {
      "text/plain": [
       "<matplotlib.legend.Legend at 0x1f4b9ac4bb0>"
      ]
     },
     "execution_count": 3,
     "metadata": {},
     "output_type": "execute_result"
    },
    {
     "data": {
      "image/png": "[encoded data removed]",
      "text/plain": [
       "<Figure size 720x720 with 2 Axes>"
      ]
     },
     "metadata": {
      "needs_background": "light"
     },
     "output_type": "display_data"
    }
   ],
   "source": [
    "# Gráficas en diferentes subplots\n",
    "N = 30\n",
    "l = [1, 3, 5]\n",
    "k = np.arange(N)\n",
    "\n",
    "p = lambda k,l: (l**k * np.exp(-l)) / sps.factorial(k)\n",
    "\n",
    "fig, (ax1, ax2) = plt.subplots(2, 1, figsize=(10,10));\n",
    "\n",
    "ax1.title.set_text('Densidad de distrución de probabilidad')\n",
    "ax2.title.set_text('Distrución de probabilidad acumulada')\n",
    "\n",
    "plot_map = list(map(lambda numbers: list(map(lambda lam: p(numbers,lam),k)),l))\n",
    "pl = lambda y: ax1.plot(k,y,'o', markersize=2)\n",
    "[pl(sublist) for sublist in plot_map]\n",
    "pl2 = lambda y: ax2.plot(k,np.cumsum(y),'o', markersize=3)\n",
    "[pl2(sublist) for sublist in plot_map]\n",
    "ax1.legend(list(map(lambda label: f'$\\lambda=${label}',l)))\n",
    "ax2.legend(list(map(lambda label: f'$\\lambda=${label}',l)))"
   ]
  },
  {
   "cell_type": "code",
   "execution_count": 4,
   "metadata": {},
   "outputs": [
    {
     "data": {
      "text/plain": [
       "<matplotlib.legend.Legend at 0x1f4ba44b640>"
      ]
     },
     "execution_count": 4,
     "metadata": {},
     "output_type": "execute_result"
    },
    {
     "data": {
      "image/png": "[encoded data removed]",
      "text/plain": [
       "<Figure size 720x720 with 2 Axes>"
      ]
     },
     "metadata": {
      "needs_background": "light"
     },
     "output_type": "display_data"
    }
   ],
   "source": [
    "N2 = 60\n",
    "l2 = [1, 21, 41]\n",
    "k2 = np.arange(N2)\n",
    "p = lambda k,l:(l**k*np.exp(-l))/sps.gamma(k)\n",
    "# Gráficas en diferentes subplots\n",
    "fig2, (ax3, ax4) = plt.subplots(2, 1, figsize=(10,10));\n",
    "\n",
    "ax3.title.set_text('Densidad de distrución de probabilidad')\n",
    "ax4.title.set_text('Distrución de probabilidad acumulada')\n",
    "\n",
    "plot_map = [[p(k,l) for k in range(60)] for l in l2]\n",
    "pl = lambda y: ax3.plot(k2,y,'o', markersize=2)\n",
    "[pl(sublist) for sublist in plot_map]\n",
    "pl2 = lambda y: ax4.plot(k2,np.cumsum(y),'o', markersize=3)\n",
    "[pl2(sublist) for sublist in plot_map]\n",
    "ax3.legend(list(map(lambda label: f'$\\lambda=${label}',l2)))\n",
    "ax4.legend(list(map(lambda label: f'$\\lambda=${label}',l2)))"
   ]
  },
  {
   "cell_type": "markdown",
   "metadata": {},
   "source": [
    "### Solución 7: Moisés Flores"
   ]
  },
  {
   "cell_type": "code",
   "execution_count": 1,
   "metadata": {},
   "outputs": [],
   "source": [
    "#Importaciones\n",
    "from functools import reduce\n",
    "import numpy as np\n",
    "import scipy.special as sps \n",
    "from itertools import cycle  # Librería para hacer ciclos\n",
    "import matplotlib.pyplot as plt\n",
    "import seaborn as sns; sns.set()"
   ]
  },
  {
   "cell_type": "code",
   "execution_count": 2,
   "metadata": {},
   "outputs": [
    {
     "data": {
      "text/plain": [
       "<matplotlib.legend.Legend at 0x1f8dceac6d0>"
      ]
     },
     "execution_count": 2,
     "metadata": {},
     "output_type": "execute_result"
    },
    {
     "data": {
      "image/png": "[encoded data removed]",
      "text/plain": [
       "<Figure size 720x720 with 2 Axes>"
      ]
     },
     "metadata": {},
     "output_type": "display_data"
    }
   ],
   "source": [
    "#Ejercicio 1\n",
    "N = 30\n",
    "l = [1, 3, 5]\n",
    "k = np.arange(N)\n",
    "\n",
    "p = lambda k,l: (l**k * np.exp(-l)) / sps.factorial(k)\n",
    "\n",
    "# Graficar para todo l una gráfica de p(k) usando subplots (como matrices)\n",
    "# Gráficas en diferentes subplots\n",
    "fig, (ax1, ax2) = plt.subplots(2, 1, figsize=(10,10))\n",
    "ax1.title.set_text('Densidad de distrución de probabilidad')\n",
    "ax2.title.set_text('Distrución de probabilidad acumulada')\n",
    "pxk=np.array(list((map(lambda l: p(k,l),l))))\n",
    "ax1.plot(pxk.T,'*')\n",
    "ax2.plot(pxk.T.cumsum(axis=0),'*')\n",
    "# contruir el legend en latex para cada l\n",
    "ax1.legend(list(map(lambda label: f'$\\lambda=${label}',l)))\n",
    "ax2.legend(list(map(lambda label: f'$\\lambda=${label}',l)))"
   ]
  },
  {
   "cell_type": "code",
   "execution_count": 3,
   "metadata": {},
   "outputs": [
    {
     "data": {
      "text/plain": [
       "(<AxesSubplot:>, <AxesSubplot:>)"
      ]
     },
     "execution_count": 3,
     "metadata": {},
     "output_type": "execute_result"
    },
    {
     "data": {
      "image/png": "[encoded data removed]",
      "text/plain": [
       "<Figure size 720x720 with 2 Axes>"
      ]
     },
     "metadata": {},
     "output_type": "display_data"
    }
   ],
   "source": [
    "#Ejercicio 2\n",
    "def plotExponential(l,N, cycol):\n",
    "    N=range(N)\n",
    "    c=cycol\n",
    "    lamb = [l,l+20,l+40]\n",
    "    N=range(60)\n",
    "    p = lambda k,l:(l**k*np.exp(-l))/sps.gamma(k)\n",
    "    fn = lambda l: list(map(lambda k:p(k,l),N))\n",
    "    fn2 = np.array(list(map(lambda l:fn(l),lamb)))\n",
    "    fig, (ax1, ax2) = plt.subplots(2, 1, figsize=(10,10));\n",
    "    [ax1.plot(fn2[i].T,'o',c=next(c),label='$\\lambda$=%s' % lamb[i], markersize=2) for i in range(3)]\n",
    "    [ax2.plot(np.cumsum(fn2[i].T),'o',c=next(c),label='$\\lambda$=%s' % lamb[i], markersize=3) for i in range(3)]\n",
    "    [ax2.hlines(np.cumsum(fn2[i].T),range(len(fn2[i].T)),range(1,len(fn2[i].T)+1),color=next(c)) for i in range(3)]  \n",
    "    ax1.legend()\n",
    "    ax2.legend()\n",
    "    plt.subplots_adjust(hspace=.4)\n",
    "    return ax1,ax2\n",
    "cycol = cycle('bgrcmk')\n",
    "plotExponential(1,60, cycol)"
   ]
  }
 ],
 "metadata": {
  "kernelspec": {
   "display_name": "Python 3",
   "language": "python",
   "name": "python3"
  },
  "language_info": {
   "codemirror_mode": {
    "name": "ipython",
    "version": 3
   },
   "file_extension": ".py",
   "mimetype": "text/x-python",
   "name": "python",
   "nbconvert_exporter": "python",
   "pygments_lexer": "ipython3",
   "version": "3.8.5"
  }
 },
 "nbformat": 4,
 "nbformat_minor": 2
}
